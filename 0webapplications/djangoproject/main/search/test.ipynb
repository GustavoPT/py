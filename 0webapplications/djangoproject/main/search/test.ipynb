{
 "metadata": {
  "language_info": {
   "codemirror_mode": {
    "name": "ipython",
    "version": 3
   },
   "file_extension": ".py",
   "mimetype": "text/x-python",
   "name": "python",
   "nbconvert_exporter": "python",
   "pygments_lexer": "ipython3",
   "version": "3.7.9-final"
  },
  "orig_nbformat": 2,
  "kernelspec": {
   "name": "python3",
   "display_name": "Python 3.7.9 64-bit",
   "metadata": {
    "interpreter": {
     "hash": "c8cf7745fd60c9bf30273b9b91479f0ccd4ed07ec75b7241c5b921a1555acd41"
    }
   }
  }
 },
 "nbformat": 4,
 "nbformat_minor": 2,
 "cells": [
  {
   "cell_type": "code",
   "execution_count": 1,
   "metadata": {},
   "outputs": [],
   "source": [
    "import re\n",
    "import string\n",
    "import requests\n",
    "import numpy as np\n",
    "import pandas as pd\n",
    "from bs4 import BeautifulSoup\n",
    "from sklearn.feature_extraction.text import TfidfVectorizer\n",
    "\n",
    "def retrieve_docs_and_clean():\n",
    "  # Untuk mendapatkan link berita populer\n",
    "  r = requests.get('https://bola.kompas.com/')\n",
    "  soup = BeautifulSoup(r.content, 'html.parser')\n",
    "\n",
    "  link = []\n",
    "  for i in soup.find('div', {'class':'most__wrap'}).find_all('a'):\n",
    "      i['href'] = i['href'] + '?page=all'\n",
    "      link.append(i['href'])\n",
    "\n",
    "  # Retrieve Paragraphs\n",
    "  documents = []\n",
    "  for i in link:\n",
    "      r = requests.get(i)\n",
    "      soup = BeautifulSoup(r.content, 'html.parser')\n",
    "\n",
    "      sen = []\n",
    "      for i in soup.find('div', {'class':'read__content'}).find_all('p'):\n",
    "          sen.append(i.text)\n",
    "      documents.append(' '.join(sen))\n",
    "\n",
    "  # Clean Paragraphs\n",
    "  documents_clean = []\n",
    "  for d in documents:\n",
    "      document_test = re.sub(r'[^\\x00-\\x7F]+', ' ', d)\n",
    "      document_test = re.sub(r'@\\w+', '', document_test)\n",
    "      document_test = document_test.lower()\n",
    "      document_test = re.sub(r'[%s]' % re.escape(string.punctuation), ' ', document_test)\n",
    "      document_test = re.sub(r'[0-9]', '', document_test)\n",
    "      document_test = re.sub(r'\\s{2,}', ' ', document_test)\n",
    "      documents_clean.append(document_test)\n",
    "\n",
    "  return documents_clean"
   ]
  },
  {
   "cell_type": "code",
   "execution_count": 2,
   "metadata": {},
   "outputs": [
    {
     "output_type": "stream",
     "name": "stdout",
     "text": [
      "               0         1         2         3         4         5         6  \\\nac      0.000000  0.000000  0.000000  0.000000  0.309839  0.000000  0.000000   \nacara   0.000000  0.000000  0.000000  0.000000  0.000000  0.028916  0.000000   \nad      0.000000  0.000000  0.000000  0.000000  0.000000  0.000000  0.026721   \nada     0.054509  0.023772  0.070122  0.000000  0.026088  0.015523  0.000000   \nadalah  0.021804  0.000000  0.023374  0.030743  0.000000  0.000000  0.000000   \n\n               7        8         9  \nac      0.000000  0.00000  0.124364  \nacara   0.000000  0.00000  0.000000  \nad      0.000000  0.00000  0.000000  \nada     0.000000  0.00000  0.019634  \nadalah  0.027141  0.04256  0.058901  \n(1443, 10)\n"
     ]
    }
   ],
   "source": [
    "docs = retrieve_docs_and_clean()\n",
    "\n",
    "# Create Term-Document Matrix with TF-IDF weighting\n",
    "vectorizer = TfidfVectorizer()\n",
    "X = vectorizer.fit_transform(docs)\n",
    "\n",
    "# Create a DataFrame\n",
    "df = pd.DataFrame(X.T.toarray(), index=vectorizer.get_feature_names())\n",
    "print(df.head())\n",
    "print(df.shape)"
   ]
  },
  {
   "cell_type": "code",
   "execution_count": 3,
   "metadata": {},
   "outputs": [
    {
     "output_type": "execute_result",
     "data": {
      "text/plain": [
       "               0         1         2         3         4         5         6  \\\n",
       "ac      0.000000  0.000000  0.000000  0.000000  0.309839  0.000000  0.000000   \n",
       "acara   0.000000  0.000000  0.000000  0.000000  0.000000  0.028916  0.000000   \n",
       "ad      0.000000  0.000000  0.000000  0.000000  0.000000  0.000000  0.026721   \n",
       "ada     0.054509  0.023772  0.070122  0.000000  0.026088  0.015523  0.000000   \n",
       "adalah  0.021804  0.000000  0.023374  0.030743  0.000000  0.000000  0.000000   \n",
       "\n",
       "               7        8         9  \n",
       "ac      0.000000  0.00000  0.124364  \n",
       "acara   0.000000  0.00000  0.000000  \n",
       "ad      0.000000  0.00000  0.000000  \n",
       "ada     0.000000  0.00000  0.019634  \n",
       "adalah  0.027141  0.04256  0.058901  "
      ],
      "text/html": "<div>\n<style scoped>\n    .dataframe tbody tr th:only-of-type {\n        vertical-align: middle;\n    }\n\n    .dataframe tbody tr th {\n        vertical-align: top;\n    }\n\n    .dataframe thead th {\n        text-align: right;\n    }\n</style>\n<table border=\"1\" class=\"dataframe\">\n  <thead>\n    <tr style=\"text-align: right;\">\n      <th></th>\n      <th>0</th>\n      <th>1</th>\n      <th>2</th>\n      <th>3</th>\n      <th>4</th>\n      <th>5</th>\n      <th>6</th>\n      <th>7</th>\n      <th>8</th>\n      <th>9</th>\n    </tr>\n  </thead>\n  <tbody>\n    <tr>\n      <th>ac</th>\n      <td>0.000000</td>\n      <td>0.000000</td>\n      <td>0.000000</td>\n      <td>0.000000</td>\n      <td>0.309839</td>\n      <td>0.000000</td>\n      <td>0.000000</td>\n      <td>0.000000</td>\n      <td>0.00000</td>\n      <td>0.124364</td>\n    </tr>\n    <tr>\n      <th>acara</th>\n      <td>0.000000</td>\n      <td>0.000000</td>\n      <td>0.000000</td>\n      <td>0.000000</td>\n      <td>0.000000</td>\n      <td>0.028916</td>\n      <td>0.000000</td>\n      <td>0.000000</td>\n      <td>0.00000</td>\n      <td>0.000000</td>\n    </tr>\n    <tr>\n      <th>ad</th>\n      <td>0.000000</td>\n      <td>0.000000</td>\n      <td>0.000000</td>\n      <td>0.000000</td>\n      <td>0.000000</td>\n      <td>0.000000</td>\n      <td>0.026721</td>\n      <td>0.000000</td>\n      <td>0.00000</td>\n      <td>0.000000</td>\n    </tr>\n    <tr>\n      <th>ada</th>\n      <td>0.054509</td>\n      <td>0.023772</td>\n      <td>0.070122</td>\n      <td>0.000000</td>\n      <td>0.026088</td>\n      <td>0.015523</td>\n      <td>0.000000</td>\n      <td>0.000000</td>\n      <td>0.00000</td>\n      <td>0.019634</td>\n    </tr>\n    <tr>\n      <th>adalah</th>\n      <td>0.021804</td>\n      <td>0.000000</td>\n      <td>0.023374</td>\n      <td>0.030743</td>\n      <td>0.000000</td>\n      <td>0.000000</td>\n      <td>0.000000</td>\n      <td>0.027141</td>\n      <td>0.04256</td>\n      <td>0.058901</td>\n    </tr>\n  </tbody>\n</table>\n</div>"
     },
     "metadata": {},
     "execution_count": 3
    }
   ],
   "source": [
    "docs = retrieve_docs_and_clean()\n",
    "# Create Term-Document Matrix with TF-IDF weighting\n",
    "vectorizer = TfidfVectorizer()\n",
    "X = vectorizer.fit_transform(docs)\n",
    "\n",
    "# Create a DataFrame\n",
    "df = pd.DataFrame(X.T.toarray(), index=vectorizer.get_feature_names())\n",
    "df.head()"
   ]
  },
  {
   "cell_type": "code",
   "execution_count": 4,
   "metadata": {},
   "outputs": [
    {
     "output_type": "stream",
     "name": "stdout",
     "text": [
      "query: barcelona\nBerikut artikel dengan nilai cosine similarity tertinggi: \n----------------------------------------------------------------------------------------------------\nquery: gareth bale\nBerikut artikel dengan nilai cosine similarity tertinggi: \n----------------------------------------------------------------------------------------------------\nquery: shin tae yong\nBerikut artikel dengan nilai cosine similarity tertinggi: \n"
     ]
    }
   ],
   "source": [
    "def get_similar_articles(q, df):\n",
    "  print(\"query:\", q)\n",
    "  print(\"Berikut artikel dengan nilai cosine similarity tertinggi: \")\n",
    "  q = [q]\n",
    "  q_vec = vectorizer.transform(q).toarray().reshape(df.shape[0],)\n",
    "  sim = {}\n",
    "  for i in range(10):\n",
    "    sim[i] = np.dot(df.loc[:, i].values, q_vec) / np.linalg.norm(df.loc[:, i]) * np.linalg.norm(q_vec)\n",
    "  \n",
    "  sim_sorted = sorted(sim.items(), key=lambda x: x[1], reverse=True)\n",
    "  \n",
    "  for k, v in sim_sorted:\n",
    "    if v != 0.0:\n",
    "      print(\"Nilai Similaritas:\", v)\n",
    "      print(docs[k])\n",
    "      print()\n",
    "\n",
    "\n",
    "q1 = 'barcelona'\n",
    "q2 = 'gareth bale'\n",
    "q3 = 'shin tae yong'\n",
    "\n",
    "get_similar_articles(q1, df)\n",
    "print('-'*100)\n",
    "get_similar_articles(q2, df)\n",
    "print('-'*100)\n",
    "get_similar_articles(q3, df)"
   ]
  },
  {
   "cell_type": "code",
   "execution_count": null,
   "metadata": {},
   "outputs": [],
   "source": []
  }
 ]
}