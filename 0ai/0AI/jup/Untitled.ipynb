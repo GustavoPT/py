{
 "cells": [
  {
   "cell_type": "code",
   "execution_count": 1,
   "metadata": {},
   "outputs": [
    {
     "name": "stdout",
     "output_type": "stream",
     "text": [
      "             High        Low       Open      Close    Volume  Adj Close\n",
      "Date                                                                   \n",
      "2010-06-29  25.00  17.540001  19.000000  23.889999  18766300  23.889999\n",
      "2010-06-30  30.42  23.299999  25.790001  23.830000  17187100  23.830000\n",
      "2010-07-01  25.92  20.270000  25.000000  21.959999   8218800  21.959999\n",
      "2010-07-02  23.10  18.709999  23.000000  19.200001   5139800  19.200001\n",
      "2010-07-06  20.00  15.830000  20.000000  16.110001   6866900  16.110001\n"
     ]
    }
   ],
   "source": [
    "import datetime as dt \n",
    "import matplotlib.pyplot as plt \n",
    "from matplotlib import style \n",
    "import pandas as pd \n",
    "import pandas_datareader.data as web \n",
    "\n",
    "\n",
    "style.use('ggplot')\n",
    "\n",
    "start = dt.datetime(2000,1,1)\n",
    "end = dt.datetime(2016,12,31)\n",
    "df = web.DataReader('TSLA','yahoo',start,end)\n",
    "print(df.head())"
   ]
  },
  {
   "cell_type": "code",
   "execution_count": null,
   "metadata": {},
   "outputs": [],
   "source": []
  }
 ],
 "metadata": {
  "kernelspec": {
   "display_name": "Python 3",
   "language": "python",
   "name": "python3"
  },
  "language_info": {
   "codemirror_mode": {
    "name": "ipython",
    "version": 3
   },
   "file_extension": ".py",
   "mimetype": "text/x-python",
   "name": "python",
   "nbconvert_exporter": "python",
   "pygments_lexer": "ipython3",
   "version": "3.7.3"
  }
 },
 "nbformat": 4,
 "nbformat_minor": 2
}
